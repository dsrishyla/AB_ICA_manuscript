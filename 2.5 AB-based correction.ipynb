{
 "cells": [
  {
   "cell_type": "markdown",
   "id": "55e09726-48f1-48e2-be13-57e488b64514",
   "metadata": {},
   "source": [
    "## Determining the optimal threshold"
   ]
  },
  {
   "cell_type": "code",
   "execution_count": 1,
   "id": "c8b9a7dd",
   "metadata": {},
   "outputs": [],
   "source": [
    "import numpy as np\n",
    "import mne\n",
    "import pandas as pd\n",
    "from itertools import product\n",
    "import seaborn as sns\n",
    "import math\n",
    "import matplotlib.pyplot as plt\n",
    "from pymatreader import read_mat\n",
    "from pathlib import Path\n",
    "from tqdm import tqdm_notebook\n",
    "import matlab"
   ]
  },
  {
   "cell_type": "code",
   "execution_count": 2,
   "id": "c2fcfe5a",
   "metadata": {},
   "outputs": [],
   "source": [
    "ab_ica_annots = pd.read_excel('/Users/lina_01/Desktop/ab_ica/AB_ICA_pt_table_opt_thresh_1pt.xlsx')\n",
    "ab_ica_annots.columns = ['pt', 'channels']\n",
    "ab_ica_annots = ab_ica_annots.dropna(how='any')\n",
    "ab_ica_annots.channels =  ab_ica_annots.channels.str.replace(\"'\",\"\").str.split(\",\")\n",
    "ab_ica_annots.channels =  [[chan.strip() for chan in chans if chan.strip()] \n",
    "                           for chans in ab_ica_annots.channels]"
   ]
  },
  {
   "cell_type": "code",
   "execution_count": 3,
   "id": "84516ac6",
   "metadata": {},
   "outputs": [],
   "source": [
    "fif_path = Path('/Users/lina_01/Desktop/ab_ica/pt_AB_ICA_raw_files')\n",
    "annot_path = Path('/Users/lina_01/Desktop/ab_ica')"
   ]
  },
  {
   "cell_type": "markdown",
   "id": "76d44add",
   "metadata": {},
   "source": [
    "### Defining functions"
   ]
  },
  {
   "cell_type": "code",
   "execution_count": 4,
   "id": "07b966df",
   "metadata": {},
   "outputs": [],
   "source": [
    "def epoch_features(pt): \n",
    "    kinds = ['saccade', 'clean']\n",
    "    #segments = [kind + \"_\" + channel.lower() for kind, channel in product(kinds, channels)]\n",
    "    annotations = mne.read_annotations(annot_path / f'manual_annot_AB_ICA_{pt}.csv')\n",
    "    annotations = pd.DataFrame([annot for annot in annotations if annot['description'] in kinds])\n",
    "    annotations['offset'] = annotations.onset + annotations.duration\n",
    "    annotations['kind'] = np.stack(annotations.description)\n",
    "    #annotations['kind'], annotations['channel'] = np.stack(annotations.description.str.split('_').values).T\n",
    "    \n",
    "    return annotations.drop(columns='orig_time')"
   ]
  },
  {
   "cell_type": "code",
   "execution_count": 5,
   "id": "baa75f2b",
   "metadata": {},
   "outputs": [],
   "source": [
    "#Full channel list: ['E1','E8','E14','E17','E21','E25','E32','E125','E126','E127',E128','E11','E62','E75','Cz']\n",
    "#Excluded channels: E8, E14, E21, E25, E126, E127 \n",
    "def get_min_max_amplitude(pt, channels):\n",
    "    rest_raw_processed = mne.io.read_raw_fif(fif_path / f'{pt}_rest_raw_processed.fif', \n",
    "                                             verbose=False)\n",
    "    segment_details = epoch_features(pt)\n",
    "    segment_details['max_amp'] = [np.max(abs(rest_raw_processed.get_data(picks=channels, \n",
    "                                                                     tmin=row.onset, \n",
    "                                                                     tmax=row.offset))) \n",
    "                                 for _,row in segment_details.iterrows()]\n",
    "    return segment_details.groupby(['kind']).agg(['min','max'])['max_amp']\n",
    "    #return segment_details.groupby(['kind', 'channel']).agg(['min','max'])['max_amp']"
   ]
  },
  {
   "cell_type": "code",
   "execution_count": 6,
   "id": "770601f2",
   "metadata": {},
   "outputs": [],
   "source": [
    "def mean_error_chan(channel, annotations_df, threshold_labels,  AB_chan_output, \n",
    "               rest_raw_processed, kinds = ('saccade', 'clean')):\n",
    "\n",
    "    mean_errors_all = []\n",
    "    for kind in kinds:\n",
    "        onsets = annotations_df.loc[annotations_df['description'] == kind, 'onset']\n",
    "        offsets = annotations_df.loc[annotations_df['description'] == kind, 'offset']\n",
    "        \n",
    "        mean_errors_thresh = []\n",
    "        for segment_AB in AB_chan_output:\n",
    "            segment_AB = mne.io.RawArray(segment_AB, rest_raw_processed.info, verbose=False)\n",
    "            errors = []\n",
    "            for onset, offset in zip(list(onsets),list(offsets)):\n",
    "                signal_original = rest_raw_processed.get_data(picks=channel, tmin=onset, tmax=offset)\n",
    "                signal_AB = segment_AB.get_data(picks=channel, tmin=onset, tmax=offset)\n",
    "                error = np.mean(abs(signal_original-signal_AB))\n",
    "                errors.append(error)\n",
    "            mean_errors_thresh.append(np.mean(errors))\n",
    "        error_df = pd.DataFrame({'threshold':threshold_labels, 'mean_errors':mean_errors_thresh})\n",
    "        error_df['kind'] = kind\n",
    "        error_df['channel'] = channel\n",
    "        mean_errors_all.append(error_df)\n",
    "    return pd.concat(mean_errors_all)"
   ]
  },
  {
   "cell_type": "markdown",
   "id": "2d4545fc",
   "metadata": {},
   "source": [
    "### Generating amp_ranges_df"
   ]
  },
  {
   "cell_type": "code",
   "execution_count": 7,
   "id": "04a9f98e",
   "metadata": {},
   "outputs": [
    {
     "data": {
      "application/vnd.jupyter.widget-view+json": {
       "model_id": "bea2f627adf249bdb450cddf8a2637aa",
       "version_major": 2,
       "version_minor": 0
      },
      "text/plain": [
       "  0%|          | 0/1 [00:00<?, ?it/s]"
      ]
     },
     "metadata": {},
     "output_type": "display_data"
    }
   ],
   "source": [
    "import warnings\n",
    "\n",
    "with warnings.catch_warnings():\n",
    "    warnings.simplefilter(\"ignore\")\n",
    "    error_dfs = []\n",
    "    \n",
    "    amp_ranges = []\n",
    "\n",
    "    for index, pt in tqdm_notebook(list(ab_ica_annots.pt.items())):\n",
    "        \n",
    "        rest_raw_processed = mne.io.read_raw_fif(fif_path / f'{pt}_rest_raw_processed.fif',\n",
    "                                                verbose=False)\n",
    "        annotations_df = epoch_features(pt)\n",
    "        \n",
    "        for chan in ab_ica_annots.loc[index, 'channels']:\n",
    "            amplitude_range = get_min_max_amplitude(pt, chan)\n",
    "            amplitude_range = pd.DataFrame({'min_amp': [int(np.floor(amplitude_range['min'].min()*1e6))], \n",
    "                                            'max_amp': [int(np.ceil(amplitude_range['max'].max()*1e6))]})\n",
    "            amplitude_range['chan'] = chan\n",
    "            amplitude_range['pt'] = pt\n",
    "            amp_ranges.append(amplitude_range)\n",
    "       \n",
    "    amp_ranges_df = pd.concat(amp_ranges).set_index(['pt', 'chan'])"
   ]
  },
  {
   "cell_type": "markdown",
   "id": "4fe4f9ae",
   "metadata": {},
   "source": [
    "### Generating error df"
   ]
  },
  {
   "cell_type": "code",
   "execution_count": 8,
   "id": "6bc07e84",
   "metadata": {
    "scrolled": true
   },
   "outputs": [
    {
     "data": {
      "application/vnd.jupyter.widget-view+json": {
       "model_id": "7d9d697eac0b4b208514f3a370416474",
       "version_major": 2,
       "version_minor": 0
      },
      "text/plain": [
       "  0%|          | 0/1 [00:00<?, ?it/s]"
      ]
     },
     "metadata": {},
     "output_type": "display_data"
    }
   ],
   "source": [
    "import warnings\n",
    "\n",
    "with warnings.catch_warnings():\n",
    "    warnings.simplefilter(\"ignore\")\n",
    "    error_dfs = []\n",
    "\n",
    "    for index, pt in tqdm_notebook(list(ab_ica_annots.pt.items())):\n",
    "        \n",
    "        rest_raw_processed = mne.io.read_raw_fif(fif_path / f'{pt}_rest_raw_processed.fif',\n",
    "                                                verbose=False)\n",
    "        annotations_df = epoch_features(pt)\n",
    "        \n",
    "        s_m12_AB_mat_outdata = read_mat(fif_path / f'{pt}_threshoutputs_orig.mat')\n",
    "        overall_threshold_labels = np.arange(amp_ranges_df.loc[pt, 'min_amp'].min(), \n",
    "                                             amp_ranges_df.loc[pt, 'max_amp'].max() + 1)\n",
    "        for chan in ab_ica_annots.loc[index, 'channels']:\n",
    "            threshold_labels = np.arange(amp_ranges_df.loc[(pt, chan), 'min_amp'],\n",
    "                                         amp_ranges_df.loc[(pt, chan), 'max_amp']+1)\n",
    "            mask = np.in1d(overall_threshold_labels, threshold_labels)\n",
    "            start, stop = np.where(mask)[0][[0, -1]]\n",
    "            AB_chan_output = s_m12_AB_mat_outdata['thresh_outputs']['OutData'][start:stop+1]\n",
    "            error_df = mean_error_chan(chan, annotations_df, threshold_labels,  AB_chan_output,\n",
    "                                       rest_raw_processed)\n",
    "            error_df['pt'] = pt\n",
    "            error_dfs.append(error_df)\n",
    "    error_df = pd.concat(error_dfs).set_index(['pt', 'channel'])"
   ]
  },
  {
   "cell_type": "markdown",
   "id": "423adcaf",
   "metadata": {},
   "source": [
    "### Calculating optimal threshold"
   ]
  },
  {
   "cell_type": "code",
   "execution_count": 9,
   "id": "5a0b2da1",
   "metadata": {},
   "outputs": [
    {
     "name": "stderr",
     "output_type": "stream",
     "text": [
      "/var/folders/cl/8cj5mvt51nbchvsgng871t400000gn/T/ipykernel_1505/1961300605.py:7: SettingWithCopyWarning: \n",
      "A value is trying to be set on a copy of a slice from a DataFrame.\n",
      "Try using .loc[row_indexer,col_indexer] = value instead\n",
      "\n",
      "See the caveats in the documentation: https://pandas.pydata.org/pandas-docs/stable/user_guide/indexing.html#returning-a-view-versus-a-copy\n",
      "  error_df_slice.loc[:, 'mean_errors_normalized'] = error_df_slice.loc[:, 'mean_errors']\n",
      "/var/folders/cl/8cj5mvt51nbchvsgng871t400000gn/T/ipykernel_1505/1961300605.py:7: SettingWithCopyWarning: \n",
      "A value is trying to be set on a copy of a slice from a DataFrame.\n",
      "Try using .loc[row_indexer,col_indexer] = value instead\n",
      "\n",
      "See the caveats in the documentation: https://pandas.pydata.org/pandas-docs/stable/user_guide/indexing.html#returning-a-view-versus-a-copy\n",
      "  error_df_slice.loc[:, 'mean_errors_normalized'] = error_df_slice.loc[:, 'mean_errors']\n",
      "/var/folders/cl/8cj5mvt51nbchvsgng871t400000gn/T/ipykernel_1505/1961300605.py:7: SettingWithCopyWarning: \n",
      "A value is trying to be set on a copy of a slice from a DataFrame.\n",
      "Try using .loc[row_indexer,col_indexer] = value instead\n",
      "\n",
      "See the caveats in the documentation: https://pandas.pydata.org/pandas-docs/stable/user_guide/indexing.html#returning-a-view-versus-a-copy\n",
      "  error_df_slice.loc[:, 'mean_errors_normalized'] = error_df_slice.loc[:, 'mean_errors']\n",
      "/var/folders/cl/8cj5mvt51nbchvsgng871t400000gn/T/ipykernel_1505/1961300605.py:7: SettingWithCopyWarning: \n",
      "A value is trying to be set on a copy of a slice from a DataFrame.\n",
      "Try using .loc[row_indexer,col_indexer] = value instead\n",
      "\n",
      "See the caveats in the documentation: https://pandas.pydata.org/pandas-docs/stable/user_guide/indexing.html#returning-a-view-versus-a-copy\n",
      "  error_df_slice.loc[:, 'mean_errors_normalized'] = error_df_slice.loc[:, 'mean_errors']\n",
      "/var/folders/cl/8cj5mvt51nbchvsgng871t400000gn/T/ipykernel_1505/1961300605.py:7: SettingWithCopyWarning: \n",
      "A value is trying to be set on a copy of a slice from a DataFrame.\n",
      "Try using .loc[row_indexer,col_indexer] = value instead\n",
      "\n",
      "See the caveats in the documentation: https://pandas.pydata.org/pandas-docs/stable/user_guide/indexing.html#returning-a-view-versus-a-copy\n",
      "  error_df_slice.loc[:, 'mean_errors_normalized'] = error_df_slice.loc[:, 'mean_errors']\n",
      "/var/folders/cl/8cj5mvt51nbchvsgng871t400000gn/T/ipykernel_1505/1961300605.py:7: SettingWithCopyWarning: \n",
      "A value is trying to be set on a copy of a slice from a DataFrame.\n",
      "Try using .loc[row_indexer,col_indexer] = value instead\n",
      "\n",
      "See the caveats in the documentation: https://pandas.pydata.org/pandas-docs/stable/user_guide/indexing.html#returning-a-view-versus-a-copy\n",
      "  error_df_slice.loc[:, 'mean_errors_normalized'] = error_df_slice.loc[:, 'mean_errors']\n",
      "/var/folders/cl/8cj5mvt51nbchvsgng871t400000gn/T/ipykernel_1505/1961300605.py:7: SettingWithCopyWarning: \n",
      "A value is trying to be set on a copy of a slice from a DataFrame.\n",
      "Try using .loc[row_indexer,col_indexer] = value instead\n",
      "\n",
      "See the caveats in the documentation: https://pandas.pydata.org/pandas-docs/stable/user_guide/indexing.html#returning-a-view-versus-a-copy\n",
      "  error_df_slice.loc[:, 'mean_errors_normalized'] = error_df_slice.loc[:, 'mean_errors']\n",
      "/var/folders/cl/8cj5mvt51nbchvsgng871t400000gn/T/ipykernel_1505/1961300605.py:7: SettingWithCopyWarning: \n",
      "A value is trying to be set on a copy of a slice from a DataFrame.\n",
      "Try using .loc[row_indexer,col_indexer] = value instead\n",
      "\n",
      "See the caveats in the documentation: https://pandas.pydata.org/pandas-docs/stable/user_guide/indexing.html#returning-a-view-versus-a-copy\n",
      "  error_df_slice.loc[:, 'mean_errors_normalized'] = error_df_slice.loc[:, 'mean_errors']\n",
      "/var/folders/cl/8cj5mvt51nbchvsgng871t400000gn/T/ipykernel_1505/1961300605.py:7: SettingWithCopyWarning: \n",
      "A value is trying to be set on a copy of a slice from a DataFrame.\n",
      "Try using .loc[row_indexer,col_indexer] = value instead\n",
      "\n",
      "See the caveats in the documentation: https://pandas.pydata.org/pandas-docs/stable/user_guide/indexing.html#returning-a-view-versus-a-copy\n",
      "  error_df_slice.loc[:, 'mean_errors_normalized'] = error_df_slice.loc[:, 'mean_errors']\n",
      "/var/folders/cl/8cj5mvt51nbchvsgng871t400000gn/T/ipykernel_1505/1961300605.py:7: SettingWithCopyWarning: \n",
      "A value is trying to be set on a copy of a slice from a DataFrame.\n",
      "Try using .loc[row_indexer,col_indexer] = value instead\n",
      "\n",
      "See the caveats in the documentation: https://pandas.pydata.org/pandas-docs/stable/user_guide/indexing.html#returning-a-view-versus-a-copy\n",
      "  error_df_slice.loc[:, 'mean_errors_normalized'] = error_df_slice.loc[:, 'mean_errors']\n",
      "/var/folders/cl/8cj5mvt51nbchvsgng871t400000gn/T/ipykernel_1505/1961300605.py:7: SettingWithCopyWarning: \n",
      "A value is trying to be set on a copy of a slice from a DataFrame.\n",
      "Try using .loc[row_indexer,col_indexer] = value instead\n",
      "\n",
      "See the caveats in the documentation: https://pandas.pydata.org/pandas-docs/stable/user_guide/indexing.html#returning-a-view-versus-a-copy\n",
      "  error_df_slice.loc[:, 'mean_errors_normalized'] = error_df_slice.loc[:, 'mean_errors']\n",
      "/var/folders/cl/8cj5mvt51nbchvsgng871t400000gn/T/ipykernel_1505/1961300605.py:7: SettingWithCopyWarning: \n",
      "A value is trying to be set on a copy of a slice from a DataFrame.\n",
      "Try using .loc[row_indexer,col_indexer] = value instead\n",
      "\n",
      "See the caveats in the documentation: https://pandas.pydata.org/pandas-docs/stable/user_guide/indexing.html#returning-a-view-versus-a-copy\n",
      "  error_df_slice.loc[:, 'mean_errors_normalized'] = error_df_slice.loc[:, 'mean_errors']\n",
      "/var/folders/cl/8cj5mvt51nbchvsgng871t400000gn/T/ipykernel_1505/1961300605.py:7: SettingWithCopyWarning: \n",
      "A value is trying to be set on a copy of a slice from a DataFrame.\n",
      "Try using .loc[row_indexer,col_indexer] = value instead\n",
      "\n",
      "See the caveats in the documentation: https://pandas.pydata.org/pandas-docs/stable/user_guide/indexing.html#returning-a-view-versus-a-copy\n",
      "  error_df_slice.loc[:, 'mean_errors_normalized'] = error_df_slice.loc[:, 'mean_errors']\n",
      "/var/folders/cl/8cj5mvt51nbchvsgng871t400000gn/T/ipykernel_1505/1961300605.py:7: SettingWithCopyWarning: \n",
      "A value is trying to be set on a copy of a slice from a DataFrame.\n",
      "Try using .loc[row_indexer,col_indexer] = value instead\n",
      "\n",
      "See the caveats in the documentation: https://pandas.pydata.org/pandas-docs/stable/user_guide/indexing.html#returning-a-view-versus-a-copy\n",
      "  error_df_slice.loc[:, 'mean_errors_normalized'] = error_df_slice.loc[:, 'mean_errors']\n",
      "/var/folders/cl/8cj5mvt51nbchvsgng871t400000gn/T/ipykernel_1505/1961300605.py:7: SettingWithCopyWarning: \n",
      "A value is trying to be set on a copy of a slice from a DataFrame.\n",
      "Try using .loc[row_indexer,col_indexer] = value instead\n",
      "\n",
      "See the caveats in the documentation: https://pandas.pydata.org/pandas-docs/stable/user_guide/indexing.html#returning-a-view-versus-a-copy\n",
      "  error_df_slice.loc[:, 'mean_errors_normalized'] = error_df_slice.loc[:, 'mean_errors']\n"
     ]
    }
   ],
   "source": [
    "total_errors = []\n",
    "optimal_thresholds = []\n",
    "for index, pt in ab_ica_annots.pt.items():\n",
    "    error_df_slice_pt = error_df.loc[pt]\n",
    "    for chan in error_df_slice_pt.index.unique():\n",
    "        error_df_slice = error_df_slice_pt.loc[chan]\n",
    "        error_df_slice.loc[:, 'mean_errors_normalized'] = error_df_slice.loc[:, 'mean_errors']\n",
    "        for kind in error_df_slice['kind'].unique():\n",
    "            mask = error_df_slice.kind==kind\n",
    "            error_df_slice.loc[mask, 'mean_errors_normalized'] -= error_df_slice.loc[mask, 'mean_errors_normalized'].min()\n",
    "            error_df_slice.loc[mask, 'mean_errors_normalized'] /= error_df_slice.loc[mask, 'mean_errors_normalized'].max()\n",
    "\n",
    "        total_error = (1 - error_df_slice[error_df_slice.kind=='saccade'].set_index('threshold').mean_errors_normalized \n",
    "                         + error_df_slice[error_df_slice.kind=='clean'].set_index('threshold').mean_errors_normalized)\n",
    "        total_error = total_error.to_frame()\n",
    "        total_error['pt'] = pt\n",
    "        total_error['channel'] = chan\n",
    "        total_errors.append(total_error)\n",
    "\n",
    "        optimal_threshold = pd.DataFrame({'optimal_threshold': [total_error.mean_errors_normalized.idxmin()], \n",
    "                                          'channel':[chan]})\n",
    "        optimal_threshold['pt'] = pt\n",
    "        optimal_thresholds.append(optimal_threshold)\n",
    "total_errors = pd.concat(total_errors)\n",
    "optimal_thresholds = pd.concat(optimal_thresholds)"
   ]
  },
  {
   "cell_type": "code",
   "execution_count": 10,
   "id": "e1685c94-05db-4a30-8fdf-2b6554ca1897",
   "metadata": {},
   "outputs": [],
   "source": [
    "opt_threshes = {}\n",
    "for pt in ab_ica_annots.pt.unique():\n",
    "    optimal_thresholds_slice = optimal_thresholds.loc[optimal_thresholds['pt'] == pt]\n",
    "    opt_thresh = optimal_thresholds_slice['optimal_threshold'].mean()\n",
    "    opt_threshes[pt] = opt_thresh"
   ]
  },
  {
   "cell_type": "code",
   "execution_count": 11,
   "id": "7cd22266-a83a-4297-afa7-cd080520b2e2",
   "metadata": {},
   "outputs": [
    {
     "data": {
      "text/plain": [
       "{'s058_m12': 19.533333333333335}"
      ]
     },
     "execution_count": 11,
     "metadata": {},
     "output_type": "execute_result"
    }
   ],
   "source": [
    "opt_threshes"
   ]
  },
  {
   "cell_type": "markdown",
   "id": "bc8feac8-b4c8-43ae-8d84-b12707eb5af3",
   "metadata": {},
   "source": [
    "### Plots"
   ]
  },
  {
   "cell_type": "code",
   "execution_count": 18,
   "id": "044a87f3-321a-4a1f-b61b-9a0ce570e48e",
   "metadata": {},
   "outputs": [],
   "source": [
    "error_df = error_df.reset_index()"
   ]
  },
  {
   "cell_type": "code",
   "execution_count": 19,
   "id": "a64ccf50-71c1-47e8-8c9f-d9c5e0f4bebc",
   "metadata": {},
   "outputs": [],
   "source": [
    "error_df.loc[:, 'mean_errors_normalized'] = error_df.loc[:, 'mean_errors']"
   ]
  },
  {
   "cell_type": "code",
   "execution_count": 20,
   "id": "1333bffc-7296-438f-977e-9a95a25be66e",
   "metadata": {},
   "outputs": [],
   "source": [
    "error_df_slice = error_df.loc[error_df['channel']=='E1']"
   ]
  },
  {
   "cell_type": "code",
   "execution_count": 21,
   "id": "080c71ee-165c-4d37-bbc6-6c6c90527670",
   "metadata": {},
   "outputs": [],
   "source": [
    "error_df_slices = []\n",
    "for kind in error_df_slice['kind'].unique():\n",
    "    mask = error_df_slice.kind==kind\n",
    "    error_df_slice.loc[mask, 'mean_errors_normalized'] -= error_df_slice.loc[mask, 'mean_errors_normalized'].min()\n",
    "    error_df_slice.loc[mask, 'mean_errors_normalized'] /= error_df_slice.loc[mask, 'mean_errors_normalized'].max()\n",
    "    error_df_slices.append(error_df_slice)"
   ]
  },
  {
   "cell_type": "code",
   "execution_count": 22,
   "id": "223be85f-7bcf-48d2-84e2-9c637269c2d0",
   "metadata": {},
   "outputs": [],
   "source": [
    "error_df_slices = pd.concat(error_df_slices)"
   ]
  },
  {
   "cell_type": "code",
   "execution_count": 23,
   "id": "2395fec1-81a1-4c41-a4b1-76f1b349b917",
   "metadata": {},
   "outputs": [],
   "source": [
    "total_errors = total_errors.reset_index()"
   ]
  },
  {
   "cell_type": "code",
   "execution_count": 24,
   "id": "9a3527f4-22f4-473b-b217-c1b824a6ad07",
   "metadata": {},
   "outputs": [],
   "source": [
    "total_error_slice = total_errors.loc[total_errors['channel']=='E1']"
   ]
  },
  {
   "cell_type": "code",
   "execution_count": 25,
   "id": "7f77fb6f-6e60-4ce0-bb64-ce2efb958e83",
   "metadata": {},
   "outputs": [
    {
     "name": "stderr",
     "output_type": "stream",
     "text": [
      "/Library/Frameworks/Python.framework/Versions/3.11/lib/python3.11/site-packages/seaborn/_oldcore.py:1498: FutureWarning: is_categorical_dtype is deprecated and will be removed in a future version. Use isinstance(dtype, CategoricalDtype) instead\n",
      "  if pd.api.types.is_categorical_dtype(vector):\n",
      "/Library/Frameworks/Python.framework/Versions/3.11/lib/python3.11/site-packages/seaborn/_oldcore.py:1498: FutureWarning: is_categorical_dtype is deprecated and will be removed in a future version. Use isinstance(dtype, CategoricalDtype) instead\n",
      "  if pd.api.types.is_categorical_dtype(vector):\n",
      "/Library/Frameworks/Python.framework/Versions/3.11/lib/python3.11/site-packages/seaborn/_oldcore.py:1498: FutureWarning: is_categorical_dtype is deprecated and will be removed in a future version. Use isinstance(dtype, CategoricalDtype) instead\n",
      "  if pd.api.types.is_categorical_dtype(vector):\n",
      "/Library/Frameworks/Python.framework/Versions/3.11/lib/python3.11/site-packages/seaborn/_oldcore.py:1498: FutureWarning: is_categorical_dtype is deprecated and will be removed in a future version. Use isinstance(dtype, CategoricalDtype) instead\n",
      "  if pd.api.types.is_categorical_dtype(vector):\n",
      "/Library/Frameworks/Python.framework/Versions/3.11/lib/python3.11/site-packages/seaborn/_oldcore.py:1498: FutureWarning: is_categorical_dtype is deprecated and will be removed in a future version. Use isinstance(dtype, CategoricalDtype) instead\n",
      "  if pd.api.types.is_categorical_dtype(vector):\n",
      "/Library/Frameworks/Python.framework/Versions/3.11/lib/python3.11/site-packages/seaborn/_oldcore.py:1119: FutureWarning: use_inf_as_na option is deprecated and will be removed in a future version. Convert inf values to NaN before operating instead.\n",
      "  with pd.option_context('mode.use_inf_as_na', True):\n",
      "/Library/Frameworks/Python.framework/Versions/3.11/lib/python3.11/site-packages/seaborn/_oldcore.py:1119: FutureWarning: use_inf_as_na option is deprecated and will be removed in a future version. Convert inf values to NaN before operating instead.\n",
      "  with pd.option_context('mode.use_inf_as_na', True):\n",
      "/Library/Frameworks/Python.framework/Versions/3.11/lib/python3.11/site-packages/seaborn/_oldcore.py:1498: FutureWarning: is_categorical_dtype is deprecated and will be removed in a future version. Use isinstance(dtype, CategoricalDtype) instead\n",
      "  if pd.api.types.is_categorical_dtype(vector):\n",
      "/Library/Frameworks/Python.framework/Versions/3.11/lib/python3.11/site-packages/seaborn/_oldcore.py:1498: FutureWarning: is_categorical_dtype is deprecated and will be removed in a future version. Use isinstance(dtype, CategoricalDtype) instead\n",
      "  if pd.api.types.is_categorical_dtype(vector):\n",
      "/Library/Frameworks/Python.framework/Versions/3.11/lib/python3.11/site-packages/seaborn/_oldcore.py:1119: FutureWarning: use_inf_as_na option is deprecated and will be removed in a future version. Convert inf values to NaN before operating instead.\n",
      "  with pd.option_context('mode.use_inf_as_na', True):\n",
      "/Library/Frameworks/Python.framework/Versions/3.11/lib/python3.11/site-packages/seaborn/_oldcore.py:1119: FutureWarning: use_inf_as_na option is deprecated and will be removed in a future version. Convert inf values to NaN before operating instead.\n",
      "  with pd.option_context('mode.use_inf_as_na', True):\n"
     ]
    },
    {
     "data": {
      "image/png": "[encoded data removed]",
      "text/plain": [
       "<Figure size 640x480 with 2 Axes>"
      ]
     },
     "metadata": {},
     "output_type": "display_data"
    }
   ],
   "source": [
    "fig, axes = plt.subplots(1,2)\n",
    "\n",
    "g = sns.lineplot(data = error_df_slices, x='threshold', y='mean_errors_normalized', hue='kind',ax=axes[0])\n",
    "g.axes.axvline(x = 17, linestyle='dashed', color='red')\n",
    "g.set_xlabel('Threshold (uV)',fontsize=10)\n",
    "g.set_ylabel('Mean errors normalized (V)',fontsize=10)\n",
    "g.set_title('A')\n",
    "g.set_xlim(13,34)\n",
    "\n",
    "g = sns.lineplot(data = total_error_slice, x='threshold', y='mean_errors_normalized',color='green',ax=axes[1])\n",
    "g.axes.axvline(x = 17, linestyle='dashed', color='red')\n",
    "g.set_xlabel('Threshold (uV)',fontsize=10)\n",
    "g.set_ylabel('Total error (V)',fontsize=10)\n",
    "g.set_title('B')\n",
    "g.set_xlim(13,34)\n",
    "\n",
    "fig.tight_layout()"
   ]
  },
  {
   "cell_type": "code",
   "execution_count": 26,
   "id": "d2da2f9e-a1d8-404a-99c3-a68f45f27171",
   "metadata": {},
   "outputs": [],
   "source": [
    "fig.savefig('fig2.png',dpi=300)"
   ]
  },
  {
   "cell_type": "code",
   "execution_count": null,
   "id": "5f904af6-1250-402b-acf1-9cede2cfccd8",
   "metadata": {},
   "outputs": [],
   "source": []
  },
  {
   "cell_type": "markdown",
   "id": "b8120e12-673f-4ec9-ac39-bc0fb5b2dd6c",
   "metadata": {},
   "source": [
    "### 2.5 AB_output_generation"
   ]
  },
  {
   "cell_type": "code",
   "execution_count": null,
   "id": "00f261bb-3c6c-4b6a-ba43-394aff1b77d8",
   "metadata": {},
   "outputs": [],
   "source": [
    "fif_path = Path('/Users/lina_01/Downloads/fieldtrip-20220208')\n",
    "annot_path = Path('C:/Users/dsrish/Desktop/ds_msc_project')\n",
    "\n",
    "ab_output_df = pd.read_excel(annot_path / 'AB_ICA_pt_selection.xlsx')\n",
    "\n",
    "code = \"\"\"\n",
    "disp(pt)\n",
    "\n",
    "fiff_file = [pt,'_rest_raw_processed.fif']\n",
    "cfg = [];\n",
    "cfg.dataset = fiff_file;\n",
    "data1 = ft_preprocessing(cfg)\n",
    "\n",
    "cfg = [];\n",
    "cfg.Approach = 'Window';\n",
    "cfg.Threshold = (opt_thresh).*1e-06; %voltage threshold\n",
    "cfg.Fs = data1.fsample;\n",
    "cfg.WindowSize = 1; %unit in second\n",
    "cfg.InData = data1.trial{1}; %may have to exclude the high-pass artifact before AB %ONE TRIAL ONLY\n",
    "cfg = Run_AB(cfg);\n",
    "data1.trial{1} = [cfg.OutData]; \n",
    "\n",
    "%Saving to export to MNE\n",
    "datatosave_in = rmfield(cfg, setdiff(fieldnames(cfg), {'InData'}))\n",
    "datatosave_out = rmfield(cfg, setdiff(fieldnames(cfg), {'OutData'}))\n",
    "\n",
    "filename = [pt, '_AB_outdata.mat']\n",
    "save(filename, 'datatosave_out')\"\"\"\n",
    "\n",
    "import matlab.engine\n",
    "import io\n",
    "\n",
    "for pt in ab_output_df.pt.unique():\n",
    "    out = io.StringIO()\n",
    "    err = io.StringIO()\n",
    "    eng = matlab.engine.start_matlab()\n",
    "    eng.workspace['pt'] = pt\n",
    "    mask = ab_output_df.pt == pt\n",
    "    eng.workspace['opt_thresh'] = float(ab_output_df.loc[mask, 'opt_thresh'])\n",
    "    out.truncate(0)\n",
    "    out.seek(0)\n",
    "    err.truncate(0)\n",
    "    err.seek(0)\n",
    "    eng.eval(code, nargout=0, stdout=out, stderr=err)\n",
    "    print(out.getvalue())\n",
    "    print(err.getvalue())\n",
    "\n",
    "##test##\n",
    "\n",
    "code = \"\"\"\n",
    "disp(pt)\n",
    "\n",
    "fiff_file = /Users/lina_01/Downloads/pt_AB_ICA_raw_files/s058_m12_rest_raw_processed.fif\n",
    "cfg = [];\n",
    "cfg.dataset = fiff_file;\n",
    "data1 = ft_preprocessing(cfg)\n",
    "\n",
    "cfg = [];\n",
    "cfg.Approach = 'Window';\n",
    "cfg.Threshold = 19.53*1e-06; %voltage threshold\n",
    "cfg.Fs = data1.fsample;\n",
    "cfg.WindowSize = 1; %unit in second\n",
    "cfg.InData = data1.trial{1}; %may have to exclude the high-pass artifact before AB %ONE TRIAL ONLY\n",
    "cfg = Run_AB(cfg);\n",
    "data1.trial{1} = [cfg.OutData]; \n",
    "\n",
    "%Saving to export to MNE\n",
    "datatosave_in = rmfield(cfg, setdiff(fieldnames(cfg), {'InData'}))\n",
    "datatosave_out = rmfield(cfg, setdiff(fieldnames(cfg), {'OutData'}))\n",
    "\n",
    "filename = ['s058_m12', '_AB_outdata.mat']\n",
    "save(filename, 'datatosave_out')\"\"\""
   ]
  },
  {
   "cell_type": "code",
   "execution_count": null,
   "id": "693be219-d1a2-4503-887a-d6de5b73bc06",
   "metadata": {},
   "outputs": [],
   "source": []
  }
 ],
 "metadata": {
  "kernelspec": {
   "display_name": "Python 3 (ipykernel)",
   "language": "python",
   "name": "python3"
  },
  "language_info": {
   "codemirror_mode": {
    "name": "ipython",
    "version": 3
   },
   "file_extension": ".py",
   "mimetype": "text/x-python",
   "name": "python",
   "nbconvert_exporter": "python",
   "pygments_lexer": "ipython3",
   "version": "3.11.5"
  }
 },
 "nbformat": 4,
 "nbformat_minor": 5
}
