{
 "cells": [
  {
   "cell_type": "code",
   "execution_count": 1,
   "id": "2025682d",
   "metadata": {},
   "outputs": [
    {
     "name": "stdout",
     "output_type": "stream",
     "text": [
      "Jupyter environment detected. Enabling Open3D WebVisualizer.\n",
      "[Open3D INFO] WebRTC GUI backend enabled.\n",
      "[Open3D INFO] WebRTCWindowSystem: HTTP handshake server disabled.\n"
     ]
    }
   ],
   "source": [
    "import numpy as np\n",
    "from pathlib import Path\n",
    "import mne\n",
    "from tqdm.notebook import tqdm\n",
    "import seaborn as sns\n",
    "%matplotlib inline\n",
    "import matplotlib.pyplot as plt\n",
    "import pandas as pd\n",
    "#from mne.time_frequency import psd_welch\n",
    "from acareeg.eegip import preprocessed_raw, process_events_resting_state, process_epochs, get_resting_state_epochs"
   ]
  },
  {
   "cell_type": "code",
   "execution_count": 2,
   "id": "8f91eda0",
   "metadata": {},
   "outputs": [],
   "source": [
    "def get_onsets_resting_state(raw, age, dataset):\n",
    "    if dataset == 'london':\n",
    "        return get_onsets_london_resting_state(raw, age)\n",
    "    \n",
    "    if dataset == 'washington':\n",
    "        return get_onsets_washington_resting_state(raw)"
   ]
  },
  {
   "cell_type": "code",
   "execution_count": 3,
   "id": "889e2664",
   "metadata": {},
   "outputs": [],
   "source": [
    "def get_onsets_washington_resting_state(raw):\n",
    "    annot_sample = []\n",
    "    annot_id = []  \n",
    "    freq = raw.info[\"sfreq\"]\n",
    "\n",
    "    onsets = [a['onset'] for a in raw.annotations if a[\"description\"] in [\"Toys\", \"Socl\"]]\n",
    "    if len(onsets) == 0:\n",
    "        return None\n",
    "\n",
    "    if len(onsets) % 2 == 1:\n",
    "        onsets.append(min(onsets[-1] + 60., raw.times[-1]))\n",
    "\n",
    "    return list(zip(onsets[::2], onsets[1::2]))"
   ]
  },
  {
   "cell_type": "code",
   "execution_count": 4,
   "id": "40a8b704",
   "metadata": {},
   "outputs": [],
   "source": [
    "def get_onsets_london_resting_state(raw, age):\n",
    "    annot_sample = []\n",
    "    annot_id = []  \n",
    "    freq = raw.info[\"sfreq\"]\n",
    "    \n",
    "    if age == 6:\n",
    "        onsets = [a['onset'] for a in raw.annotations if a[\"description\"] in [\"Rst0\", \"Rst1\"]]\n",
    "        \n",
    "        if len(onsets) == 0:\n",
    "            return None\n",
    "        if len(onsets) % 2 == 1:\n",
    "            onsets.append(min(onsets + 40., raw.times[-1]))\n",
    "\n",
    "        return list(zip(onsets[::2], onsets[1::2]))\n",
    "    \n",
    "    if age == 12:\n",
    "        onsets = [annot[\"onset\"] for annot in raw.annotations if annot[\"description\"] == \"Rst0\"]\n",
    "        \n",
    "        if len(onsets) == 0:\n",
    "            return None\n",
    "\n",
    "        final_swir_swen_onset = [annot[\"onset\"]\n",
    "                                 for annot in raw.annotations\n",
    "                                 if annot[\"description\"] in [\"SWEN\", \"SWIR\"]][-1]\n",
    "        durations = list(np.diff(onsets)) + [final_swir_swen_onset - onsets[-1]]\n",
    "\n",
    "        # Truncate longer trials at 50s\n",
    "        durations = [min(d, 50) for d in durations]\n",
    "\n",
    "        # Reject any trial that last less than 10s\n",
    "        durations, onsets = zip(*[(d, onset) for d, onset in zip(durations, onsets) if d >= 10])\n",
    "\n",
    "        return list(zip(onsets, onsets+durations))"
   ]
  },
  {
   "cell_type": "code",
   "execution_count": 14,
   "id": "2cc13ad6",
   "metadata": {
    "scrolled": true
   },
   "outputs": [
    {
     "name": "stdout",
     "output_type": "stream",
     "text": [
      "Setting up band-stop filter\n",
      "\n",
      "FIR filter parameters\n",
      "---------------------\n",
      "Designing a one-pass, zero-phase, non-causal bandstop filter:\n",
      "- Windowed time-domain design (firwin) method\n",
      "- Hamming window with 0.0194 passband ripple and 53 dB stopband attenuation\n",
      "- Lower transition bandwidth: 0.50 Hz\n",
      "- Upper transition bandwidth: 0.50 Hz\n",
      "- Filter length: 3301 samples (6.602 sec)\n",
      "\n"
     ]
    },
    {
     "name": "stderr",
     "output_type": "stream",
     "text": [
      "c:\\users\\dsrish\\desktop\\ds_msc_project\\code\\acareeg\\acareeg\\eegip.py:154: RuntimeWarning: The data contains 'boundary' events, indicating data discontinuities. Be cautious of filtering and epoching around these events.\n",
      "  raw = mne.io.read_raw_eeglab(path, preload=True, verbose=verbose)\n",
      "[Parallel(n_jobs=1)]: Using backend SequentialBackend with 1 concurrent workers.\n",
      "[Parallel(n_jobs=1)]: Done   1 out of   1 | elapsed:    0.0s remaining:    0.0s\n",
      "[Parallel(n_jobs=1)]: Done   2 out of   2 | elapsed:    0.0s remaining:    0.0s\n",
      "[Parallel(n_jobs=1)]: Done   3 out of   3 | elapsed:    0.0s remaining:    0.0s\n",
      "[Parallel(n_jobs=1)]: Done   4 out of   4 | elapsed:    0.0s remaining:    0.0s\n",
      "[Parallel(n_jobs=1)]: Done 129 out of 129 | elapsed:    3.9s finished\n",
      "c:\\users\\dsrish\\desktop\\ds_msc_project\\code\\acareeg\\acareeg\\eegip.py:95: RuntimeWarning: Estimated head radius (10101.3 cm) is above the 99th percentile for adult head size. Check if the montage_units argument is correct (the default is \"mm\", but your channel positions may be in different units).\n",
      "  info, _, _ = _get_info(raw_eeg)\n"
     ]
    },
    {
     "name": "stdout",
     "output_type": "stream",
     "text": [
      "Applying ICA to Raw instance\n"
     ]
    },
    {
     "name": "stderr",
     "output_type": "stream",
     "text": [
      "c:\\users\\dsrish\\desktop\\ds_msc_project\\code\\acareeg\\acareeg\\eegip.py:147: RuntimeWarning: Estimated head radius (10101.3 cm) is above the 99th percentile for adult head size. Check if the montage_units argument is correct (the default is \"mm\", but your channel positions may be in different units).\n",
      "  read_ica_eeglab(file_name).apply(raw, exclude=ind_comp_to_drop)\n"
     ]
    },
    {
     "name": "stdout",
     "output_type": "stream",
     "text": [
      "    Transforming to ICA space (105 components)\n",
      "    Zeroing out 71 ICA components\n",
      "    Projecting back using 105 PCA components\n",
      "Writing C:\\Users\\dsrish\\Desktop\\fieldtrip-20220208\\s045_m6_rest_raw_ica.fif\n",
      "Closing C:\\Users\\dsrish\\Desktop\\fieldtrip-20220208\\s045_m6_rest_raw_ica.fif\n",
      "[done]\n"
     ]
    },
    {
     "name": "stderr",
     "output_type": "stream",
     "text": [
      "C:\\Users\\dsrish\\AppData\\Local\\Temp/ipykernel_42712/1588881581.py:38: RuntimeWarning: This filename (C:\\Users\\dsrish\\Desktop\\fieldtrip-20220208\\s045_m6_rest_raw_ica.fif) does not conform to MNE naming conventions. All raw files should end with raw.fif, raw_sss.fif, raw_tsss.fif, _meg.fif, _eeg.fif, _ieeg.fif, raw.fif.gz, raw_sss.fif.gz, raw_tsss.fif.gz, _meg.fif.gz, _eeg.fif.gz or _ieeg.fif.gz\n",
      "  raw_file.save(f'C:/Users/dsrish/Desktop/fieldtrip-20220208/s{str(0)}{pt}_m{str(age)}_rest_raw_{file_name}.fif',overwrite=True)\n"
     ]
    },
    {
     "name": "stdout",
     "output_type": "stream",
     "text": [
      "Setting up band-stop filter\n",
      "\n",
      "FIR filter parameters\n",
      "---------------------\n",
      "Designing a one-pass, zero-phase, non-causal bandstop filter:\n",
      "- Windowed time-domain design (firwin) method\n",
      "- Hamming window with 0.0194 passband ripple and 53 dB stopband attenuation\n",
      "- Lower transition bandwidth: 0.50 Hz\n",
      "- Upper transition bandwidth: 0.50 Hz\n",
      "- Filter length: 3301 samples (6.602 sec)\n",
      "\n"
     ]
    },
    {
     "name": "stderr",
     "output_type": "stream",
     "text": [
      "c:\\users\\dsrish\\desktop\\ds_msc_project\\code\\acareeg\\acareeg\\eegip.py:154: RuntimeWarning: The data contains 'boundary' events, indicating data discontinuities. Be cautious of filtering and epoching around these events.\n",
      "  raw = mne.io.read_raw_eeglab(path, preload=True, verbose=verbose)\n",
      "[Parallel(n_jobs=1)]: Using backend SequentialBackend with 1 concurrent workers.\n",
      "[Parallel(n_jobs=1)]: Done   1 out of   1 | elapsed:    0.0s remaining:    0.0s\n",
      "[Parallel(n_jobs=1)]: Done   2 out of   2 | elapsed:    0.0s remaining:    0.0s\n",
      "[Parallel(n_jobs=1)]: Done   3 out of   3 | elapsed:    0.0s remaining:    0.0s\n",
      "[Parallel(n_jobs=1)]: Done   4 out of   4 | elapsed:    0.0s remaining:    0.0s\n",
      "[Parallel(n_jobs=1)]: Done 129 out of 129 | elapsed:    4.4s finished\n",
      "c:\\users\\dsrish\\desktop\\ds_msc_project\\code\\acareeg\\acareeg\\eegip.py:95: RuntimeWarning: Estimated head radius (10101.3 cm) is above the 99th percentile for adult head size. Check if the montage_units argument is correct (the default is \"mm\", but your channel positions may be in different units).\n",
      "  info, _, _ = _get_info(raw_eeg)\n"
     ]
    },
    {
     "name": "stdout",
     "output_type": "stream",
     "text": [
      "Writing C:\\Users\\dsrish\\Desktop\\fieldtrip-20220208\\s045_m6_rest_raw_processed.fif\n",
      "Closing C:\\Users\\dsrish\\Desktop\\fieldtrip-20220208\\s045_m6_rest_raw_processed.fif\n",
      "[done]\n"
     ]
    },
    {
     "name": "stderr",
     "output_type": "stream",
     "text": [
      "C:\\Users\\dsrish\\AppData\\Local\\Temp/ipykernel_42712/1588881581.py:38: RuntimeWarning: This filename (C:\\Users\\dsrish\\Desktop\\fieldtrip-20220208\\s045_m6_rest_raw_processed.fif) does not conform to MNE naming conventions. All raw files should end with raw.fif, raw_sss.fif, raw_tsss.fif, _meg.fif, _eeg.fif, _ieeg.fif, raw.fif.gz, raw_sss.fif.gz, raw_tsss.fif.gz, _meg.fif.gz, _eeg.fif.gz or _ieeg.fif.gz\n",
      "  raw_file.save(f'C:/Users/dsrish/Desktop/fieldtrip-20220208/s{str(0)}{pt}_m{str(age)}_rest_raw_{file_name}.fif',overwrite=True)\n"
     ]
    }
   ],
   "source": [
    "line_freqs = {\"london\": 50.0, \"washington\": 60.0}\n",
    "pt = 45\n",
    "age = 6\n",
    "age_str = str(age)\n",
    "dataset = 'washington'\n",
    "interpolate = True\n",
    "bids_root = 'C:/Users/dsrish/Documents/globus_eegip'\n",
    "montage = mne.channels.make_standard_montage(\"GSN-HydroCel-129\")\n",
    "\n",
    "for apply_ica, file_name in zip([True, False],['ica', 'processed']):\n",
    "    \n",
    "    eeg_path = Path(bids_root) / dataset / \"derivatives\" / \"lossless\" / f\"sub-s{pt:03}\" / \\\n",
    "           f\"ses-m{age:02}\" / \"eeg\"\n",
    "    eeg_path = list(eeg_path.glob(\"*_qcr.set\"))\n",
    "    eeg_path = eeg_path[0]\n",
    "    raw = preprocessed_raw(eeg_path, line_freqs[dataset], montage=montage, reset_bads=True, \n",
    "                           apply_ica=apply_ica, interp_bad_ch=interpolate)\n",
    "    \n",
    "    \n",
    "    raw_lst = []\n",
    "    all_annots = mne.Annotations([],[],[])\n",
    "    offset = 0\n",
    "    for tmin, tmax in get_onsets_resting_state(raw, age, dataset):\n",
    "        if offset == 0:\n",
    "            offset = tmin\n",
    "        else:\n",
    "            offset+=tmin-previous_tmax\n",
    "        previous_tmax = tmax\n",
    "        raw_copy = raw.copy().crop(tmin=tmin, tmax=tmax)\n",
    "        list_annot_values = [tuple(annot.values()) for annot in raw_copy.annotations] \n",
    "        onset, duration, description = list(zip(*list_annot_values))[:3]\n",
    "        onset -= offset\n",
    "        all_annots += mne.Annotations(onset,duration,description)\n",
    "        raw_lst.append(raw_copy)\n",
    "    \n",
    "    raw_file = mne.concatenate_raws(raw_lst)\n",
    "    \n",
    "    raw_file.save(f'C:/Users/dsrish/Desktop/fieldtrip-20220208/s{str(0)}{pt}_m{str(age)}_rest_raw_{file_name}.fif',overwrite=True)\n"
   ]
  }
 ],
 "metadata": {
  "kernelspec": {
   "display_name": "Python 3 (ipykernel)",
   "language": "python",
   "name": "python3"
  },
  "language_info": {
   "codemirror_mode": {
    "name": "ipython",
    "version": 3
   },
   "file_extension": ".py",
   "mimetype": "text/x-python",
   "name": "python",
   "nbconvert_exporter": "python",
   "pygments_lexer": "ipython3",
   "version": "3.11.5"
  }
 },
 "nbformat": 4,
 "nbformat_minor": 5
}
